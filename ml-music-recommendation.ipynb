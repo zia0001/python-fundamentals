{
 "cells": [
  {
   "cell_type": "code",
   "execution_count": 245,
   "id": "9f70ea62-525b-4f56-b955-e6f0679acc46",
   "metadata": {},
   "outputs": [
    {
     "data": {
      "text/plain": [
       "['music-recommender.joblib']"
      ]
     },
     "execution_count": 245,
     "metadata": {},
     "output_type": "execute_result"
    }
   ],
   "source": [
    "import pandas as pd\n",
    "from sklearn.tree import DecisionTreeClassifier \n",
    "from sklearn.model_selection import train_test_split\n",
    "from sklearn.metrics import accuracy_score\n",
    "import joblib   #Model persisting:  means saving your already trained model to a file\n",
    "\n",
    "\n",
    "music_data = pd.read_csv('E:/Python-Workspace/python-fundamentals/music.csv')\n",
    "X = music_data.drop(columns = ['genre'])  #input set(X) \n",
    "y = music_data['genre']  #output set(y)\n",
    "X_train, X_test, y_train, y_test = train_test_split(X, y, test_size = 0.2)\n",
    "\n",
    "model = DecisionTreeClassifier() #model creation\n",
    "model.fit(X_train, y_train)  #training model on 80% of data which finds the best realationship btwn input(X) and output(y) \n",
    "predictions = model.predict(X_test)  #model Predict genres for new (unseen) data\n",
    "\n",
    "\n",
    "\n",
    "score = accuracy_score(y_test, predictions) #checking accuracy of prediction by comparing the prediction with y_test data\n",
    "score\n",
    "\n",
    "joblib.dump(model, 'music-recommender.joblib') #persist model to reuse it later without retraining again and agian\n"
   ]
  },
  {
   "cell_type": "code",
   "execution_count": 246,
   "id": "7b82f7f9-cf5a-4750-896b-693716812ca0",
   "metadata": {},
   "outputs": [
    {
     "name": "stderr",
     "output_type": "stream",
     "text": [
      "C:\\ProgramData\\anaconda3\\Lib\\site-packages\\sklearn\\utils\\validation.py:2739: UserWarning: X does not have valid feature names, but DecisionTreeClassifier was fitted with feature names\n",
      "  warnings.warn(\n"
     ]
    },
    {
     "data": {
      "text/plain": [
       "array(['Jazz'], dtype=object)"
      ]
     },
     "execution_count": 246,
     "metadata": {},
     "output_type": "execute_result"
    }
   ],
   "source": [
    "import pandas as pd\n",
    "from sklearn.tree import DecisionTreeClassifier \n",
    "from sklearn.model_selection import train_test_split\n",
    "from sklearn.metrics import accuracy_score\n",
    "import joblib\n",
    "\n",
    "\n",
    "model = joblib.load('E:/Python-Workspace/python-fundamentals/music-recommender.joblib') #loaded already trained model\n",
    "predictions = model.predict([[27,1]])\n",
    "predictions\n"
   ]
  },
  {
   "cell_type": "code",
   "execution_count": null,
   "id": "09a5ca48-058d-4630-a78b-810ae3165bda",
   "metadata": {},
   "outputs": [],
   "source": []
  }
 ],
 "metadata": {
  "kernelspec": {
   "display_name": "Python 3 (ipykernel)",
   "language": "python",
   "name": "python3"
  },
  "language_info": {
   "codemirror_mode": {
    "name": "ipython",
    "version": 3
   },
   "file_extension": ".py",
   "mimetype": "text/x-python",
   "name": "python",
   "nbconvert_exporter": "python",
   "pygments_lexer": "ipython3",
   "version": "3.13.5"
  }
 },
 "nbformat": 4,
 "nbformat_minor": 5
}
